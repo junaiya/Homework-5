{
 "cells": [
  {
   "cell_type": "markdown",
   "id": "c9c27a29",
   "metadata": {},
   "source": [
    "Question 1"
   ]
  },
  {
   "cell_type": "markdown",
   "id": "23bffedb",
   "metadata": {},
   "source": [
    "The ability to be proved false is the primary characteristic that separates concepts that can be analysed statistically from those that are not. This implies that the concept must be testable and able to be refuted by experimentation or observation; concepts that are ambiguous, arbitrary, or devoid of quantifiable variables are not amenable to statistical analysis. A good null hypothesis must be testable through the collection of data that can either support or contradict it, and it should be detailed enough to allow for exact definitions of what is being tested. As a baseline for comparison, the null hypothesis, which is usually expressed negatively, asserts that there is no effect or difference. On the other hand, the alternative hypothesis, which reflects what researchers seek to demonstrate by statistical analysis, suggests that there is an effect, relationship, or difference. Therefore, the alternative hypothesis reflects the theory that researchers want to validate, whereas the null hypothesis indicates a position of skepticism that requires proof for rejection. "
   ]
  },
  {
   "cell_type": "markdown",
   "id": "0a41f541",
   "metadata": {},
   "source": [
    "Question 2"
   ]
  },
  {
   "cell_type": "markdown",
   "id": "5a02808b",
   "metadata": {},
   "source": [
    "A smaller set of data, known as a sample, is frequently used in statistics to shed light on a broader group, known as the population. Our sample's individual data points are referred to as xi's (xᵢ). The sample mean (x̄), which provides a brief overview of the overall reaction of our sample, is obtained by averaging these data points. Conversely, μ (mu) stands for the population mean, or the average of all individuals within the population, which is typically unknown to us due to the difficulty of measuring everyone. Additionally, there is μ₀ (mu zero), a particular population mean value that we may compare in our study.The statement in the video that the results of our tests refer to the population parameter rather than the sample statistic indicates that we are attempting to infer, from the data in our sample (such as the sample mean, x̄), estimates about the entire population (such as the population mean, μ). Therefore, the purpose of our statistical tests is to use the data we collect from a small group to draw more general conclusions about everyone."
   ]
  },
  {
   "cell_type": "markdown",
   "id": "4d31689c",
   "metadata": {},
   "source": [
    "Question 3"
   ]
  },
  {
   "cell_type": "markdown",
   "id": "50532cbc",
   "metadata": {},
   "source": [
    "The null hypothesis, which holds that there is no impact or difference, is the first assumption made when calculating a p-value. By using this method, you establish a baseline situation in which the result that is being examined is the result of pure chance. You can determine the likelihood of observing our data if the null hypothesis were true by picturing a senerio in which it holds.\n",
    "\n",
    "E.g. \n",
    "\n",
    "Investigating whether a new cat food causes cats to put on weight. Your null hypothesis is that there is no relationship between food and weight. Cats consuming the new diet are two pounds larger than others after a month. You compute a p-value while assuming that the food has no effect on weight (the null hypothesis is true) to see if this difference matters. The likelihood of a 2-pound difference occurring by chance is indicated by the p-value. You may reject the null hypothesis and believe the food is effective if the likelihood is very small. You would continue to believe that the food has no meaningful impact if it is high."
   ]
  },
  {
   "cell_type": "markdown",
   "id": "5b81a108",
   "metadata": {},
   "source": [
    "Question 4"
   ]
  },
  {
   "cell_type": "markdown",
   "id": "df4478b5",
   "metadata": {},
   "source": [
    "If the null hypothesis is true, the p-value indicates the shows of obtaining the outcomes you saw (or something more extreme). The null hypothesis makes the assumption that there is no effect or difference. The likelihood of the observed results occurring under the null hypothesis is extremely low when the p-value is minimal. Because of this, a smaller p-value makes the null hypothesis appear more difficult to accept as it implies that something else is happening and that the null hypothesis may be incorrect, which leads to its rejection. Basically, you can be more certain that the effect or difference you're witnessing is real and not the result of chance if the p-value is smaller."
   ]
  },
  {
   "cell_type": "markdown",
   "id": "a83e54fd",
   "metadata": {},
   "source": [
    "Question 5"
   ]
  },
  {
   "cell_type": "markdown",
   "id": "4276a453",
   "metadata": {},
   "source": [
    "Each couple has a 50% probability of tilting in either direction, similar to flipping a coin. 80 out of 124 couples (64.5%) cocked their heads to the right during the observed study. Replicate 124 random coin flips with a 50% chance of landing on \"right\" in order to determine how rare this result is under the null hypothesis. You can determine how frequently you get 80 or more \"right tilts\" by chance by running this simulation many times. The percentage of these simulations with outcomes as extreme as the real observation is shown by the p-value. The evidence against the null hypothesis is stronger when the p-value is smaller."
   ]
  },
  {
   "cell_type": "markdown",
   "id": "dcf3e806",
   "metadata": {},
   "source": [
    "Question 6"
   ]
  },
  {
   "cell_type": "markdown",
   "id": "332c312b",
   "metadata": {},
   "source": [
    "The null hypothesis cannot be proven incorrectly with a smaller p-value. It simply shows that, assuming the null hypothesis is correct, the observed outcomes are implausible. A p-value cannot establish Fido's guilt or innocence in the video. A high p-value indicates there is not enough evidence to reject the null hypothesis, but a low p-value indicates there is significant evidence against the null hypothesis (Fido being innocent). But no p-value can establish guilt or innocence. It merely gauges how strong the evidence is."
   ]
  },
  {
   "cell_type": "markdown",
   "id": "7e0929d5",
   "metadata": {},
   "source": [
    "Question 7"
   ]
  },
  {
   "cell_type": "markdown",
   "id": "9850b46c",
   "metadata": {},
   "source": [
    "The code was changed to only check if the simulated statistics are greater than or equal to the observed statistic, focusing on one direction instead of both directions. This changes the interpretation because a one-tailed test assumes that any effect will only occur in one specific direction. One should expect the p-value to be smaller in the one-tailed analysis since it only considers one extreme, increasing the likelihood of rejecting the null hypothesis when the effect is in the predicted direction."
   ]
  },
  {
   "cell_type": "code",
   "execution_count": null,
   "id": "c27c06cd",
   "metadata": {},
   "outputs": [],
   "source": [
    "import numpy as np\n",
    "import pandas as pd\n",
    "\n",
    "print(pd.DataFrame({'HealthScoreChange': patient_data['HealthScoreChange'],\n",
    "                    '> 0 ?': patient_data['HealthScoreChange'] > 0}))\n",
    "\n",
    "random_difference_sign = np.random.choice([-1, 1], size=len(patient_data))\n",
    "pd.DataFrame({'HealthScoreChange': random_difference_sign * patient_data['HealthScoreChange'].abs(),\n",
    "              '> 0 ?': (random_difference_sign * patient_data['HealthScoreChange']) > 0})\n",
    "\n",
    "np.random.seed(1)  \n",
    "number_of_simulations = 10000  \n",
    "n_size = len(patient_data)  \n",
    "IncreaseProportionSimulations_underH0random = np.zeros(number_of_simulations)\n",
    "\n",
    "for i in range(number_of_simulations):\n",
    "    random_improvement = np.random.choice([0, 1], size=n_size, replace=True)\n",
    "    IncreaseProportionSimulations_underH0random[i] = random_improvement.mean()\n",
    "\n",
    "population_parameter_value_under_H0 = 0.5\n",
    "\n",
    "observed_statistic = (patient_data.HealthScoreChange > 0).mean()\n",
    "simulated_statistics = IncreaseProportionSimulations_underH0random\n",
    "\n",
    "SimStats_as_or_more_extreme_than_ObsStat = simulated_statistics >= observed_statistic\n",
    "\n",
    "print('''Which simulated statistics are \"as or more extreme\"\n",
    "than the observed statistic? (Observed statistic = ''', observed_statistic, ')', sep=\"\")\n",
    "\n",
    "pd.DataFrame({'(Simulated) Statistic': simulated_statistics,\n",
    "              '>= ' + str(observed_statistic) + \" ?\": SimStats_as_or_more_extreme_than_ObsStat})\n",
    "\n",
    "p_value = np.mean(SimStats_as_or_more_extreme_than_ObsStat)\n",
    "print(\"One-tailed p-value: \", p_value)"
   ]
  },
  {
   "cell_type": "markdown",
   "id": "a96e932b",
   "metadata": {},
   "source": [
    "Question 8"
   ]
  },
  {
   "cell_type": "markdown",
   "id": "0cdea6f6",
   "metadata": {},
   "source": [
    "Population: All STA130 students (or, more generally, all people capable of tasting tea).\n",
    "Sample: A random sample of 80 STA130 students who participated in the tea-tasting experiment.\n",
    "Parameter of Interest: The proportion of STA130 students in the population who can correctly identify whether the tea or milk was poured first. Let's denote this population parameter as p.\n",
    "\n",
    "\n",
    "H0 :p=0.5\n",
    "The null hypothesis states that there is no difference in the ability to taste tea based on the order of pouring.\n",
    "\n",
    "Ha: p=0.5\n",
    "Informal Interpretive Statement: The alternative hypothesis suggests that students are better than random chance at identifying the order in which the milk and tea were poured.\n",
    "\n",
    "p = 49/80\n",
    "  = 0.6125\n",
    "  \n",
    "To conduct the test, calculate the probability of observing 49 or more correct identifications using the binomial distribution formula, which shows the likelihood of obtaining a certain number of successes in a fixed number of independent trials. If the p-value found from this calculation is less than the predetermined significance level, we would reject the null hypothesis. Since we got a proportion of 0.6125, it means the result is above the null hypothesis, suggesting that maybe students might have actually been able to tell the difference."
   ]
  },
  {
   "cell_type": "code",
   "execution_count": null,
   "id": "b0248e72",
   "metadata": {},
   "outputs": [],
   "source": []
  }
 ],
 "metadata": {
  "kernelspec": {
   "display_name": "Python 3 (ipykernel)",
   "language": "python",
   "name": "python3"
  },
  "language_info": {
   "codemirror_mode": {
    "name": "ipython",
    "version": 3
   },
   "file_extension": ".py",
   "mimetype": "text/x-python",
   "name": "python",
   "nbconvert_exporter": "python",
   "pygments_lexer": "ipython3",
   "version": "3.11.6"
  }
 },
 "nbformat": 4,
 "nbformat_minor": 5
}
